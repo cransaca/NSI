{
 "cells": [
  {
   "cell_type": "markdown",
   "metadata": {},
   "source": [
    "# Les types de base\n",
    "\n",
    "On rappelle que toute donnée est codée avec des 0 et des 1 dans l'ordinateur ce qui revient à dire que toute donnée est codée avec des entiers. Mais pour les utiliser, l'ordinateur et <code>python</code> doit savoir quel type de donnée il manipule.\n",
    "\n",
    "<p>\n",
    "<i>\n",
    "    Tester la fonction ci-dessous en modifiant la ligne d'affectation de <code>x</code> et en utilisant  des valeurs numériques ou autres.\n",
    "    \n",
    "     Par exemple 6, \"Salut\", True, -3.15, pi,...</i></p>"
   ]
  },
  {
   "cell_type": "code",
   "execution_count": null,
   "metadata": {},
   "outputs": [],
   "source": [
    "# Une fonction utilitaire\n",
    "def describe_variable(variable):\n",
    "    \"\"\"Retourne la valeur d'une variable et son type sous forme d'une chaîne.\"\"\"\n",
    "    return str.format(\"{} ({})\", variable, type(variable))\n",
    "\n",
    "\n",
    "x=-1  # modifier la valeur -1\n",
    "print(describe_variable(x))"
   ]
  },
  {
   "cell_type": "markdown",
   "metadata": {},
   "source": [
    "La classe affichée dans l'exemple est le <code>type</code> de la variable.\n",
    "Le <code>type</code> d'une variable définit ce que représente la valeur stockée dans la mémoire et les opérateurs qu'on peut lui appliquer. \n",
    "\n",
    "Certains langages demandent de déclarer une variable et son type avant de l'utiliser. Ce n'est pas le cas en Python où le type de la variable est établi lors de son affectation en fonction de la valeur qui est proposée. Cette possibilité s'appelle le <a href=\"#typdyn\">Typage dynamique </a>(voir ci-dessous). Le typage dynamique facilite l'écriture du code mais en ignorant le type d'une variable, on peut rencontrer des erreurs difficiles à détecter.\n",
    "\n",
    "Il est donc important de connaître les principaux types de variables en <code>python</code>:\n"
   ]
  },
  {
   "cell_type": "markdown",
   "metadata": {},
   "source": [
    "## Les booléens: BOOL\n",
    "Le type booléen décrit les deux valeurs de la logique binaire: Vrai ou Faux, identifiées aussi à 1 et 0.\n",
    "\n"
   ]
  },
  {
   "cell_type": "markdown",
   "metadata": {},
   "source": [
    "<span class=\"exo\">Exemple</span>"
   ]
  },
  {
   "cell_type": "code",
   "execution_count": null,
   "metadata": {},
   "outputs": [],
   "source": [
    "x,y=1,2\n",
    "print(x==1)\n",
    "print(True==1, False==0)\n",
    "print(x>y)"
   ]
  },
  {
   "cell_type": "markdown",
   "metadata": {},
   "source": [
    "Remarque: <I>En python3, les booléens sont des sous-type du types <code>int</code> présenté ci-dessous.</i>"
   ]
  },
  {
   "cell_type": "markdown",
   "metadata": {},
   "source": [
    "## Les entiers relatifs : INTEGERS (Int)\n",
    "\n",
    "En Python3, en principe, il n'y a pas de limite de taille pour les entiers."
   ]
  },
  {
   "cell_type": "code",
   "execution_count": null,
   "metadata": {},
   "outputs": [],
   "source": [
    "n=1\n",
    "for i in range(10):\n",
    "    n=n**2+i\n",
    "    print(n)"
   ]
  },
  {
   "cell_type": "markdown",
   "metadata": {},
   "source": [
    "Exercice\n",
    "\n",
    "Tester chacun des opérateurs et compléter la ligne de commentaire avec l'opération mathématique correspondante et le type du résultat"
   ]
  },
  {
   "cell_type": "code",
   "execution_count": null,
   "metadata": {},
   "outputs": [],
   "source": [
    "\n",
    "a,b=35,3\n",
    "print(describe_variable(a+b))  #\n",
    "print(describe_variable(b-a) ) #\n",
    "print(describe_variable(a*b) ) #\n",
    "print(describe_variable(a**b) ) #\n",
    "print(describe_variable(a/b))  #\n",
    "print(describe_variable(a//b))  #\n",
    "print(describe_variable(a%b))  #\n"
   ]
  },
  {
   "cell_type": "markdown",
   "metadata": {},
   "source": [
    "Remarque: <code>a//b</code> signifie quotient de la division euclidienne de <code>a</code> par <code>b</code>.\n",
    "\n",
    "On remarque que <code>a/b</code> ne donne pas un entier. Python a donc répéré que le résultat n'est pas un <code>int</code> et classe donc le résultat sous un autre type: <code>float</code> (présenté ci-dessous)."
   ]
  },
  {
   "cell_type": "markdown",
   "metadata": {},
   "source": [
    "## Les décimaux: FLOATING POINT (Float)\n",
    "Le type FLOAT correspond à une façon de coder des nombres  réels mais ce codage ne permet d'avoir les valeurs exactes que pour une classe restreinte de ces nombres (voir nombres 2-adiques).\n",
    "\n",
    "Quelques exemples de <code>float</code>: 1.23, 5.35e-3, 1.5e+43.\n",
    "\n",
    "Le \"<code>e-3</code>\" signifie \"<code>x10<sup>-3</sup></code>\".\n",
    "\n",
    "<I>Exercice\n",
    "    \n",
    " Exécuter le programme suivant:</I>\n",
    "\n"
   ]
  },
  {
   "cell_type": "code",
   "execution_count": null,
   "metadata": {},
   "outputs": [],
   "source": [
    "n=1.0\n",
    "for i in range(10):\n",
    "    n=n**2+i\n",
    "    print(n)"
   ]
  },
  {
   "cell_type": "markdown",
   "metadata": {},
   "source": [
    "<I>Exercice\n",
    "\n",
    "Un exemple surprenant: pourquoi n'obtient-on pas <code>true</code>?</I>"
   ]
  },
  {
   "cell_type": "code",
   "execution_count": null,
   "metadata": {},
   "outputs": [],
   "source": [
    "print(0.1+0.2==0.3)"
   ]
  },
  {
   "cell_type": "markdown",
   "metadata": {},
   "source": [
    "## Les chaînes de caractères: STRING (Str)\n",
    "\n",
    "\n",
    "Une chaîne de caractères est une suite de plusieurs caractères. Les caractères peuvent être des lettres, des chiffres ou d'autres symboles. \n",
    "Une chaîne de caractères se note entre guillemets simples ou doubles. \n",
    "On peut avoir une chaîne vide, notée <code>''</code> ou <code>\"\"</code>. "
   ]
  },
  {
   "cell_type": "code",
   "execution_count": null,
   "metadata": {},
   "outputs": [],
   "source": [
    "exemple=\"abracadabra\" \n",
    "autre_exemple='3g$\"y'\n",
    "rien=''\n",
    "print(exemple, rien, autre_exemple)"
   ]
  },
  {
   "cell_type": "markdown",
   "metadata": {},
   "source": [
    "Les caractères d'une chaîne forment une collection ordonnée d'éléments (qu'on appelle une séquence), et pour accéder à un élément de la séquence on utilise son rang et des crochets.  Le rang du premier caractère est 0, donc le rang du dernière est égal à la longueur de la chaîne moins 1. On peut aussi sélectionner plusieurs caractères qui nous intéressent (slicing). \n",
    "\n",
    "<I>Exercice: Tester chacune des instructions ci-dessous et expliquer. </I>"
   ]
  },
  {
   "cell_type": "code",
   "execution_count": null,
   "metadata": {},
   "outputs": [],
   "source": [
    "print(exemple[0])#\n",
    "print(autre_exemple[0])#\n",
    "print(autre_exemple[3])#\n",
    "print(exemple[1:3])#\n",
    "print(exemple[:3])#\n",
    "print(exemple[2:])#\n",
    "print(exemple[::2])#\n",
    "print(len(exemple))#\n",
    "print(len(rien))#"
   ]
  },
  {
   "cell_type": "markdown",
   "metadata": {},
   "source": [
    "On dispose de très nombreuses opérations et fonctions sur les chaînes de caractères.  "
   ]
  },
  {
   "cell_type": "markdown",
   "metadata": {},
   "source": [
    "La longueur d'une chaîne de caractères: <code>len()</code>  (length en anglais)"
   ]
  },
  {
   "cell_type": "code",
   "execution_count": null,
   "metadata": {},
   "outputs": [],
   "source": [
    "print(len(exemple))#\n",
    "print(len(rien))#"
   ]
  },
  {
   "cell_type": "markdown",
   "metadata": {},
   "source": [
    "Exercice \n",
    "\n",
    "Voici un programme qui permet de parcourir une  chaine de caractères. Compléter ce programme pour compter le nombre de 'a' dans la chaîne de caractères.  "
   ]
  },
  {
   "cell_type": "code",
   "execution_count": null,
   "metadata": {},
   "outputs": [],
   "source": [
    "exemple=\"abracadabra\"\n",
    "nombre_de_a=0\n",
    "for lettre in exemple:\n",
    "    if lettre == \"a\":\n",
    "        nombre_de_a=nombre_de_a +1\n",
    "        \n",
    "print(nombre_de_a)    "
   ]
  },
  {
   "cell_type": "markdown",
   "metadata": {},
   "source": [
    "Exercice \n",
    "\n",
    "Voici un autre programme qui permet de parcourir une  chaine de caractères. Compléter ce programme pour trouver le rang de la première occurence d'une lettre, ou bien de retourner un message d'erreur si la lettre n'est pas dans la chaîne.  "
   ]
  },
  {
   "cell_type": "code",
   "execution_count": null,
   "metadata": {},
   "outputs": [],
   "source": [
    "exemple=\"abracadabra\"\n",
    "def lettre_dans_texte(texte, lettre):\n",
    "    for i in range(len(texte)):\n",
    "        if texte[i] == lettre:\n",
    "            return i\n",
    "    return(\"la lettre n'est pas dans le texte\")\n",
    "        \n",
    "print(lettre_dans_texte(exemple, \"f\"))   "
   ]
  },
  {
   "cell_type": "markdown",
   "metadata": {},
   "source": [
    "### Concaténation des chaînes de caractères. \n",
    "Expliquer l'effet des symboles + et * lorsqu'ils sont utilisés avec des chaînes de caractères:"
   ]
  },
  {
   "cell_type": "code",
   "execution_count": null,
   "metadata": {},
   "outputs": [],
   "source": [
    "exemple=\"abracadabra\"\n",
    "autre_exemple='3g$\"y'\n",
    "print(exemple+autre_exemple)\n",
    "print(autre_exemple+exemple)\n",
    "print(exemple*3)"
   ]
  },
  {
   "cell_type": "markdown",
   "metadata": {},
   "source": [
    "### Exercices\n",
    "1) Ecrire une fonction qui prend en paramètre une chaîne de caractères et qui renvoie la chaîne écrite dans l'ordre inverse.\n",
    "\n",
    "2) Ecrire une fonction qui permet de dire si une chaîne donnée est un palindrome ou non. "
   ]
  },
  {
   "cell_type": "markdown",
   "metadata": {},
   "source": [
    "###  <a name=\"typdyn\">     Typage dynamique en Python</a>\n",
    "\n",
    "Exercice: \n",
    "\n",
    "Exécuter le programme suivant:\n",
    "    "
   ]
  },
  {
   "cell_type": "code",
   "execution_count": null,
   "metadata": {},
   "outputs": [],
   "source": [
    "a=1\n",
    "b=2\n",
    "c=\"3\"\n",
    "d=\"4\"\n",
    "\n",
    "print(\"a+b=\",a+b)\n",
    "print(\"c+d=\",c+d)\n",
    "print(\"b+c=\",b+d)"
   ]
  },
  {
   "cell_type": "markdown",
   "metadata": {},
   "source": [
    "On remarque que python peut effectuer l'opération somme de a+b, c+d mais pas de b+c. Dans le premier cas, a et b sont des entiers donc l'opération \"+\" est possible et correspond à l'addition. Dans le second cas, c et d sont des chaînes de caractères donc l'opération \"+\" est possible et correspond à la concatenation (\"juxtaposition\"). Par contre dans le cas b+c <code>python</code> refuse d'effectuer une opération entre un entier et une chaine.\n",
    "\n",
    "Cela signifie donc que a et b ont été déclarés comme des entiers alors que l'on n'a pas précisé le type: le typage est automatique en <code>python</code>. C'est la même chose pour c et d qui ont été déclarés comme des chaînes de caractères.\n",
    "\n",
    "Si on se rappelle que tout est codé sous forme de nombres dans des octets, on comprend que les programmes doivent connaître le type des variables utilisées. L'opération <code>+</code> n'est pas la même avec une chaîne\n",
    "\n",
    "<code>Python</code> définit donc le type de la variable en fonction du contenu (un entier, une chaîne). On dit que le typage est dynamique."
   ]
  },
  {
   "cell_type": "markdown",
   "metadata": {},
   "source": [
    "Exercice\n"
   ]
  },
  {
   "cell_type": "code",
   "execution_count": 63,
   "metadata": {},
   "outputs": [
    {
     "name": "stdout",
     "output_type": "stream",
     "text": [
      "1 (<class 'int'>)\n",
      "0.1 (<class 'float'>)\n",
      "1.1\n",
      "1.1 (<class 'float'>)\n"
     ]
    }
   ],
   "source": [
    "a=1\n",
    "print(describe_variable(a))\n",
    "b=0.1\n",
    "print(describe_variable(b))\n",
    "print(a+b)\n",
    "print(describe_variable(a+b))"
   ]
  },
  {
   "cell_type": "markdown",
   "metadata": {},
   "source": [
    "Ici pour effectuer l'opération, <code>python</code> doit convertir <code>a</code> en <code>float</code> afin de pouvoir effectuer l'opération.\n",
    "\n",
    "Il adapte donc le type pour effectuer l'opération. On a vu dans l'exemple que lorsqu'il échoue il produit un message d'erreur.\n",
    "\n",
    "Attention: le typage automatique peut générer des erreurs inattendues lorsque le programme adapte le type des variable à l'instruction.\n",
    "\n",
    "Il existe plusieurs fonctions qui permettent de forcer le type d'une variable en un autre type. On pourra se référer à <a href=\"https://fr.wikiversity.org/wiki/Python/Les_types_de_base\">Les types</a> sur wikipedia.\n",
    "\n",
    "Les instructions\n",
    "\n",
    "<code>int()</code> : permet de modifier une variable en entier. Provoque une erreur si cela n'est pas possible. <code>str() </code>: permet de transformer la plupart des variables d'un autre type en chaînes de caractère.\n",
    "\n",
    "Exercice\n",
    "\n",
    "Pour le programme suivant, expliquer les affichages 1 et 2. Pourquoi l'affichage 3 échoue-t-il? Modifier le programme pour que l'affichage 3 ne génère pas d'erreur a effectue une opération entre a et c."
   ]
  },
  {
   "cell_type": "code",
   "execution_count": 64,
   "metadata": {},
   "outputs": [
    {
     "name": "stdout",
     "output_type": "stream",
     "text": [
      "Affichage 1 123123\n",
      "Affichage 2 246\n"
     ]
    },
    {
     "ename": "TypeError",
     "evalue": "must be str, not int",
     "output_type": "error",
     "traceback": [
      "\u001b[0;31m---------------------------------------------------------------------------\u001b[0m",
      "\u001b[0;31mTypeError\u001b[0m                                 Traceback (most recent call last)",
      "\u001b[0;32m<ipython-input-64-95796c48a578>\u001b[0m in \u001b[0;36m<module>\u001b[0;34m\u001b[0m\n\u001b[1;32m      5\u001b[0m \u001b[0mc\u001b[0m\u001b[0;34m=\u001b[0m\u001b[0;36m321\u001b[0m\u001b[0;34m\u001b[0m\u001b[0;34m\u001b[0m\u001b[0m\n\u001b[1;32m      6\u001b[0m \u001b[0;31m#\u001b[0m\u001b[0;34m\u001b[0m\u001b[0;34m\u001b[0m\u001b[0;34m\u001b[0m\u001b[0m\n\u001b[0;32m----> 7\u001b[0;31m \u001b[0mprint\u001b[0m\u001b[0;34m(\u001b[0m\u001b[0;34m\"Affichage 3\"\u001b[0m\u001b[0;34m,\u001b[0m\u001b[0ma\u001b[0m\u001b[0;34m+\u001b[0m\u001b[0mc\u001b[0m\u001b[0;34m)\u001b[0m\u001b[0;34m\u001b[0m\u001b[0;34m\u001b[0m\u001b[0m\n\u001b[0m",
      "\u001b[0;31mTypeError\u001b[0m: must be str, not int"
     ]
    }
   ],
   "source": [
    "a=\"123\"\n",
    "print(\"Affichage 1\",2*a)\n",
    "b=int(a)\n",
    "print(\"Affichage 2\",2*b)\n",
    "c=321\n",
    "#\n",
    "print(\"Affichage 3\",a+c)"
   ]
  }
 ],
 "metadata": {
  "kernelspec": {
   "display_name": "Python 3",
   "language": "python",
   "name": "python3"
  },
  "language_info": {
   "codemirror_mode": {
    "name": "ipython",
    "version": 3
   },
   "file_extension": ".py",
   "mimetype": "text/x-python",
   "name": "python",
   "nbconvert_exporter": "python",
   "pygments_lexer": "ipython3",
   "version": "3.6.7"
  }
 },
 "nbformat": 4,
 "nbformat_minor": 2
}
