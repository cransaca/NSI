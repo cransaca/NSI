{
 "cells": [
  {
   "cell_type": "markdown",
   "metadata": {},
   "source": [
    "# Les types de base\n",
    "\n",
    "Tester la fonction ci-dessous en utilisant  des valeurs numériques ou autres.\n",
    "     par exemple 6, \"Salut\", True, -3.15, pi,..."
   ]
  },
  {
   "cell_type": "code",
   "execution_count": 18,
   "metadata": {},
   "outputs": [
    {
     "name": "stdout",
     "output_type": "stream",
     "text": [
      "-1 (<class 'int'>)\n"
     ]
    }
   ],
   "source": [
    "# une fonction utilitaire\n",
    "def describe_variable(variable):\n",
    "    \"\"\"Retourne la valeur d'une variable et son type sous forme d'une chaîne.\"\"\"\n",
    "    return str.format(\"{} ({})\", variable, type(variable))\n",
    "\n",
    "# \n",
    "x=-1\n",
    "print(describe_variable(x))"
   ]
  },
  {
   "cell_type": "markdown",
   "metadata": {},
   "source": [
    "Le type d'une variable définit les valeurs qu'elle peut prendre, sous quelle formé elle est codée dans la mémoire  (qui sera vue dans la partie \"Représentation des données\") et les opérateurs qu'on peut lui appliquer. \n",
    "\n",
    "Certains langages demandent de déclarer une variable et son type avant de l'utiliser. Ce n'est pas le cas en Python où le type de la variable est établi lors de son affectation.\n",
    "Nous détaillerons ce point dans la partie \"Typage dynamique\".\n"
   ]
  },
  {
   "cell_type": "markdown",
   "metadata": {},
   "source": [
    "## Les booléens: BOOL\n",
    "Le type booléen décrit les deux valeurs de la logique binaire: Vrai ou Faux, identifiées aussi à 1 et 0.\n",
    "\n"
   ]
  },
  {
   "cell_type": "code",
   "execution_count": 19,
   "metadata": {},
   "outputs": [
    {
     "name": "stdout",
     "output_type": "stream",
     "text": [
      "True\n",
      "True True\n",
      "False\n"
     ]
    }
   ],
   "source": [
    "x,y=1,2\n",
    "print(x==1)\n",
    "print(True==1, False==0)\n",
    "print(x>y)"
   ]
  },
  {
   "cell_type": "markdown",
   "metadata": {},
   "source": [
    "## Les entiers relatifs : INTEGERS (Int)\n",
    "\n",
    "En Python, en principe, il n'y a pas de limite de taille pour les entiers."
   ]
  },
  {
   "cell_type": "code",
   "execution_count": 20,
   "metadata": {},
   "outputs": [
    {
     "name": "stdout",
     "output_type": "stream",
     "text": [
      "38 (<class 'int'>)\n",
      "-32 (<class 'int'>)\n",
      "105 (<class 'int'>)\n",
      "42875 (<class 'int'>)\n",
      "11.666666666666666 (<class 'float'>)\n",
      "11 (<class 'int'>)\n",
      "2 (<class 'int'>)\n"
     ]
    }
   ],
   "source": [
    "# tester chacun des opérateurs et compléter la ligne de commentaire   avec l'opération mathématique correspondante et le type du résultat\n",
    "a,b=35,3\n",
    "print(describe_variable(a+b))  #\n",
    "print(describe_variable(b-a) ) #\n",
    "print(describe_variable(a*b) ) #\n",
    "print(describe_variable(a**b) ) #\n",
    "print(describe_variable(a/b))  #\n",
    "print(describe_variable(a//b))  #\n",
    "print(describe_variable(a%b))  #\n"
   ]
  },
  {
   "cell_type": "markdown",
   "metadata": {},
   "source": [
    "## Les décimaux: FLOATING POINT (Float)\n",
    "Le type FLOAT correspond à une façon de coder des nombres  réels mais ce codage ne permet d'avoir les valeurs exactes que pour une classe restreinte de ces nombres (voir nombres 2-adiques).  \n",
    "Un exemple surprenant:\n"
   ]
  },
  {
   "cell_type": "code",
   "execution_count": 21,
   "metadata": {},
   "outputs": [
    {
     "name": "stdout",
     "output_type": "stream",
     "text": [
      "False\n"
     ]
    }
   ],
   "source": [
    "print(0.1+0.2==0.3)"
   ]
  },
  {
   "cell_type": "markdown",
   "metadata": {},
   "source": [
    "## Les chaînes de caractères: STRING (Str)\n",
    "\n",
    "\n",
    "Une chaîne de caractères est une suite de plusieurs caractères. Les caractères peuvent être des lettres, des chiffres ou d'autres symboles. \n",
    "Une chaîne de caractères se note entre guillemets simples ou doubles. \n",
    "On peut avoir une chaîne vide, notée '' ou \"\". "
   ]
  },
  {
   "cell_type": "code",
   "execution_count": 22,
   "metadata": {},
   "outputs": [
    {
     "name": "stdout",
     "output_type": "stream",
     "text": [
      "abracadabra  3g$\"y\n"
     ]
    }
   ],
   "source": [
    "exemple=\"abracadabra\" \n",
    "autre_exemple='3g$\"y'\n",
    "rien=''\n",
    "print(exemple, rien, autre_exemple)"
   ]
  },
  {
   "cell_type": "markdown",
   "metadata": {},
   "source": [
    "Les caractères d'une chaîne forment une collection ordonnée d'éléments (qu'on appelle une séquence), et pour accéder à un élément de la séquence on utilise son rang et des crochets.  Le rang du premier caractère est 0, donc le rang du dernière est égal à la longueur de la chaîne moins 1. On peut aussibsélectionner plusieurs caractères qui nous intéressent (slicing). \n",
    "Tester chacune des instructions ci-dessous et expliquer. "
   ]
  },
  {
   "cell_type": "code",
   "execution_count": 23,
   "metadata": {},
   "outputs": [
    {
     "name": "stdout",
     "output_type": "stream",
     "text": [
      "a\n",
      "3\n",
      "\"\n",
      "br\n",
      "abr\n",
      "racadabra\n",
      "arcdba\n",
      "11\n",
      "0\n"
     ]
    }
   ],
   "source": [
    "print(exemple[0])#\n",
    "print(autre_exemple[0])#\n",
    "print(autre_exemple[3])#\n",
    "print(exemple[1:3])#\n",
    "print(exemple[:3])#\n",
    "print(exemple[2:])#\n",
    "print(exemple[::2])#\n",
    "print(len(exemple))#\n",
    "print(len(rien))#"
   ]
  },
  {
   "cell_type": "markdown",
   "metadata": {},
   "source": [
    "On dispose de très nombreuses opérations et fonctions sur les chaînes de caractères.  "
   ]
  },
  {
   "cell_type": "markdown",
   "metadata": {},
   "source": [
    "La longueur d'une chaîne de caractères: len()  (length en anglais)"
   ]
  },
  {
   "cell_type": "code",
   "execution_count": 24,
   "metadata": {},
   "outputs": [
    {
     "name": "stdout",
     "output_type": "stream",
     "text": [
      "11\n",
      "0\n"
     ]
    }
   ],
   "source": [
    "print(len(exemple))#\n",
    "print(len(rien))#"
   ]
  },
  {
   "cell_type": "markdown",
   "metadata": {},
   "source": [
    "Voici un programme qui permet de parcourir une  chaine de caractères. Compléter ce programme pour compter le nombre de 'a'.  "
   ]
  },
  {
   "cell_type": "code",
   "execution_count": 25,
   "metadata": {},
   "outputs": [
    {
     "name": "stdout",
     "output_type": "stream",
     "text": [
      "5\n"
     ]
    }
   ],
   "source": [
    "exemple=\"abracadabra\"\n",
    "nombre_de_a=0\n",
    "for lettre in exemple:\n",
    "    if lettre == \"a\":\n",
    "        nombre_de_a=nombre_de_a +1\n",
    "        \n",
    "print(nombre_de_a)    "
   ]
  },
  {
   "cell_type": "markdown",
   "metadata": {},
   "source": [
    "Voici un autre programme qui permet de parcourir une  chaine de caractères. Compléter ce programme pour trouver le rang de la première occurence d'une lettre, ou bien de retourner un message d'erreur si la lettre n'est pas dans la chaîne.  "
   ]
  },
  {
   "cell_type": "code",
   "execution_count": 26,
   "metadata": {},
   "outputs": [
    {
     "name": "stdout",
     "output_type": "stream",
     "text": [
      "la lettre n'est pas dans le texte\n"
     ]
    }
   ],
   "source": [
    "exemple=\"abracadabra\"\n",
    "def lettre_dans_texte(texte, lettre):\n",
    "    for i in range(len(texte)):\n",
    "        if texte[i] == lettre:\n",
    "            return i\n",
    "    return(\"la lettre n'est pas dans le texte\")\n",
    "        \n",
    "print(lettre_dans_texte(exemple, \"f\"))   "
   ]
  },
  {
   "cell_type": "markdown",
   "metadata": {},
   "source": [
    "### Concaténation des chaînes de caractères. \n",
    "Expliquer l'effet des symboles + et * lorsqu'ils sont utilisés avec des chaînes de caractères:"
   ]
  },
  {
   "cell_type": "code",
   "execution_count": 27,
   "metadata": {},
   "outputs": [
    {
     "name": "stdout",
     "output_type": "stream",
     "text": [
      "abracadabra3g$\"y\n",
      "3g$\"yabracadabra\n",
      "abracadabraabracadabraabracadabra\n"
     ]
    }
   ],
   "source": [
    "exemple=\"abracadabra\"\n",
    "autre_exemple='3g$\"y'\n",
    "print(exemple+autre_exemple)\n",
    "print(autre_exemple+exemple)\n",
    "print(exemple*3)"
   ]
  },
  {
   "cell_type": "markdown",
   "metadata": {},
   "source": [
    "### Exercices\n",
    "1) Ecrire une fonction qui prend en paramètre une chaîne de caractères et qui renvoie la chaîne écrite dans l'onrdre inverse.\n",
    "\n",
    "2) Ecrire une fonction qui permet de dire si une chaîne donnée est un palindrome ou non. "
   ]
  },
  {
   "cell_type": "code",
   "execution_count": null,
   "metadata": {},
   "outputs": [],
   "source": []
  },
  {
   "cell_type": "code",
   "execution_count": null,
   "metadata": {},
   "outputs": [],
   "source": []
  }
 ],
 "metadata": {
  "kernelspec": {
   "display_name": "Python 3",
   "language": "python",
   "name": "python3"
  },
  "language_info": {
   "codemirror_mode": {
    "name": "ipython",
    "version": 3
   },
   "file_extension": ".py",
   "mimetype": "text/x-python",
   "name": "python",
   "nbconvert_exporter": "python",
   "pygments_lexer": "ipython3",
   "version": "3.7.3"
  }
 },
 "nbformat": 4,
 "nbformat_minor": 2
}
