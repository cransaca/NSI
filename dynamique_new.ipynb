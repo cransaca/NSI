{
 "cells": [
  {
   "cell_type": "markdown",
   "metadata": {},
   "source": [
    "### Typage dynamique en Python\n",
    "\n",
    "Exécuter le programme suivant:"
   ]
  },
  {
   "cell_type": "code",
   "execution_count": 2,
   "metadata": {},
   "outputs": [
    {
     "name": "stdout",
     "output_type": "stream",
     "text": [
      "a+b= 3\n",
      "c+d= 34\n"
     ]
    },
    {
     "ename": "TypeError",
     "evalue": "unsupported operand type(s) for +: 'int' and 'str'",
     "output_type": "error",
     "traceback": [
      "\u001b[1;31m---------------------------------------------------------------------------\u001b[0m",
      "\u001b[1;31mTypeError\u001b[0m                                 Traceback (most recent call last)",
      "\u001b[1;32m<ipython-input-2-60fa513d3ee5>\u001b[0m in \u001b[0;36m<module>\u001b[1;34m\u001b[0m\n\u001b[0;32m      5\u001b[0m \u001b[0mprint\u001b[0m\u001b[1;33m(\u001b[0m\u001b[1;34m\"a+b=\"\u001b[0m\u001b[1;33m,\u001b[0m\u001b[0ma\u001b[0m\u001b[1;33m+\u001b[0m\u001b[0mb\u001b[0m\u001b[1;33m)\u001b[0m\u001b[1;33m\u001b[0m\u001b[1;33m\u001b[0m\u001b[0m\n\u001b[0;32m      6\u001b[0m \u001b[0mprint\u001b[0m\u001b[1;33m(\u001b[0m\u001b[1;34m\"c+d=\"\u001b[0m\u001b[1;33m,\u001b[0m\u001b[0mc\u001b[0m\u001b[1;33m+\u001b[0m\u001b[0md\u001b[0m\u001b[1;33m)\u001b[0m\u001b[1;33m\u001b[0m\u001b[1;33m\u001b[0m\u001b[0m\n\u001b[1;32m----> 7\u001b[1;33m \u001b[0mint\u001b[0m\u001b[1;33m(\u001b[0m\u001b[1;34m\"b+c=\"\u001b[0m\u001b[1;33m,\u001b[0m\u001b[0mb\u001b[0m\u001b[1;33m+\u001b[0m\u001b[0md\u001b[0m\u001b[1;33m)\u001b[0m\u001b[1;33m\u001b[0m\u001b[1;33m\u001b[0m\u001b[0m\n\u001b[0m",
      "\u001b[1;31mTypeError\u001b[0m: unsupported operand type(s) for +: 'int' and 'str'"
     ]
    }
   ],
   "source": [
    "a=1\n",
    "b=2\n",
    "c=\"3\"\n",
    "d=\"4\"\n",
    "print(\"a+b=\",a+b)\n",
    "print(\"c+d=\",c+d)\n",
    "int(\"b+c=\",b+d)\n"
   ]
  },
  {
   "cell_type": "markdown",
   "metadata": {},
   "source": [
    "On remarque que python peut effectuer l'opération somme de a+b, c+d mais pas de b+c. \n",
    "Dans le premier cas, a et b sont des entiers donc l'opération \"+\" est possible et correspond à l'addition.\n",
    "Dans le second cas, c et d sont des chaînes de caractères donc l'opération \"+\" est possible et correspond à la concatenation (\"juxtaposition\").\n",
    "Par contre dans le cas b+c python refuse d'effectuer une opération entre un entier et une chaine. \n",
    "\n",
    "\n",
    "\n",
    "Cela signifie donc que a et b ont été déclarés comme des entiers alors que l'on n'a pas précisé le type: le typage est automatique en python. C'est la même chose pour c et d qui ont été déclarés comme des chaînes de caractères. \n",
    "\n",
    "Si on se rappelle que tout est codé sous forme de nombres dans des octets, on comprend que les programmes doivent connaître le type des variables utilisées. \n",
    "\n",
    "Python définit donc le type de la variable en fonction du contenu (un entier, une chaîne). On dit que le typage est dynamique.\n",
    "\n"
   ]
  },
  {
   "cell_type": "code",
   "execution_count": null,
   "metadata": {},
   "outputs": [],
   "source": [
    "a=1\n",
    "b=0.1\n",
    "print(a+b)"
   ]
  },
  {
   "cell_type": "markdown",
   "metadata": {},
   "source": [
    "Ici pour effetuer l'opération, python doit convertir a en float afin de pouvoir effectuer l'opération.\n",
    "\n",
    "Il adapte donc le type pour effectuer l'opération. On a vu dans le premier exemple que lorsqu'il échoue il produit un message d'erreur.\n",
    "\n",
    "Attention: le typage automatique peut générer des erreurs inattendues lorsque le programme adapte le type des variable à l'instruction."
   ]
  },
  {
   "cell_type": "markdown",
   "metadata": {},
   "source": [
    "Il existe plusieurs fonctions qui permettent de forcer le type d'une variable en un autre type. On pourra se référer à <a href=\"https://fr.wikibooks.org/wiki/Programmation_Python/Types\">Les types sur wikipedia</a>\n",
    "\n",
    "<a href=\"https://daringfireball.net/projects/markdown/syntax#precode\">Les instructions</a>\n",
    "\n",
    "<code>int()</code> : permet de modifier une variable en entier. Provoque une erreur si cela n'est pas possible.\n",
    "<code>str()</code> : permet de transformer la plupart des variables d'un autre type en chaînes de caractère.\n",
    "    \n",
    " "
   ]
  },
  {
   "cell_type": "markdown",
   "metadata": {},
   "source": [
    "Exercice: Pour le programme suivant, expliquer les affichages 1 et 2 et modifier le programme pour que l'affichage 3 ne génère pas d'erreur (on rajouter"
   ]
  },
  {
   "cell_type": "code",
   "execution_count": 8,
   "metadata": {},
   "outputs": [
    {
     "name": "stdout",
     "output_type": "stream",
     "text": [
      "Affichage 1 123123\n",
      "Affichage 2 246\n"
     ]
    },
    {
     "ename": "TypeError",
     "evalue": "can only concatenate str (not \"int\") to str",
     "output_type": "error",
     "traceback": [
      "\u001b[1;31m---------------------------------------------------------------------------\u001b[0m",
      "\u001b[1;31mTypeError\u001b[0m                                 Traceback (most recent call last)",
      "\u001b[1;32m<ipython-input-8-95796c48a578>\u001b[0m in \u001b[0;36m<module>\u001b[1;34m\u001b[0m\n\u001b[0;32m      5\u001b[0m \u001b[0mc\u001b[0m\u001b[1;33m=\u001b[0m\u001b[1;36m321\u001b[0m\u001b[1;33m\u001b[0m\u001b[1;33m\u001b[0m\u001b[0m\n\u001b[0;32m      6\u001b[0m \u001b[1;31m#\u001b[0m\u001b[1;33m\u001b[0m\u001b[1;33m\u001b[0m\u001b[1;33m\u001b[0m\u001b[0m\n\u001b[1;32m----> 7\u001b[1;33m \u001b[0mprint\u001b[0m\u001b[1;33m(\u001b[0m\u001b[1;34m\"Affichage 3\"\u001b[0m\u001b[1;33m,\u001b[0m\u001b[0ma\u001b[0m\u001b[1;33m+\u001b[0m\u001b[0mc\u001b[0m\u001b[1;33m)\u001b[0m\u001b[1;33m\u001b[0m\u001b[1;33m\u001b[0m\u001b[0m\n\u001b[0m",
      "\u001b[1;31mTypeError\u001b[0m: can only concatenate str (not \"int\") to str"
     ]
    }
   ],
   "source": [
    "a=\"123\"\n",
    "print(\"Affichage 1\",2*a)\n",
    "b=int(a)\n",
    "print(\"Affichage 2\",2*b)\n",
    "c=321\n",
    "#\n",
    "print(\"Affichage 3\",a+c)"
   ]
  },
  {
   "cell_type": "code",
   "execution_count": null,
   "metadata": {},
   "outputs": [],
   "source": []
  },
  {
   "cell_type": "code",
   "execution_count": null,
   "metadata": {},
   "outputs": [],
   "source": []
  }
 ],
 "metadata": {
  "kernelspec": {
   "display_name": "Python 3",
   "language": "python",
   "name": "python3"
  },
  "language_info": {
   "codemirror_mode": {
    "name": "ipython",
    "version": 3
   },
   "file_extension": ".py",
   "mimetype": "text/x-python",
   "name": "python",
   "nbconvert_exporter": "python",
   "pygments_lexer": "ipython3",
   "version": "3.7.3"
  }
 },
 "nbformat": 4,
 "nbformat_minor": 2
}
